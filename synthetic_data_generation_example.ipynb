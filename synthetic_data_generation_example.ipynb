{
 "cells": [
  {
   "cell_type": "code",
   "execution_count": null,
   "metadata": {},
   "outputs": [],
   "source": [
    "from synthetic_data_generator import generate_synth_data\n",
    "\n",
    "num_items = 500\n",
    "num_labels = 2\n",
    "annotators_per_item = 5\n",
    "max_items_per_annotator = 20\n",
    "\n",
    "# what proportion of the population is each demographic\n",
    "subpopulation_proportions = {'A':0.8, 'B':0.2}\n",
    "\n",
    "# how often do the different segments of the population spam (Expected value of our beta distribution)\n",
    "expected_spamming_rate = {'A':0, 'B':0}\n",
    "\n",
    "# what proportion of our items will be divisive in some way\n",
    "divisiveness_rate = 0.2\n",
    "\n",
    "# how often to the genuine opinions of each annotator vary based on demographics\n",
    "opinion_variance = {'A':0, 'B':0}\n",
    "\n",
    "# generate our synthetic data\n",
    "synth_df = generate_synth_data(num_items, num_labels, annotators_per_item, max_items_per_annotator, subpopulation_proportions, \n",
    "                expected_spamming_rate, divisiveness_rate, opinion_variance, return_truths=True)"
   ]
  },
  {
   "cell_type": "code",
   "execution_count": null,
   "metadata": {},
   "outputs": [],
   "source": []
  }
 ],
 "metadata": {
  "kernelspec": {
   "display_name": "base",
   "language": "python",
   "name": "python3"
  },
  "language_info": {
   "codemirror_mode": {
    "name": "ipython",
    "version": 3
   },
   "file_extension": ".py",
   "mimetype": "text/x-python",
   "name": "python",
   "nbconvert_exporter": "python",
   "pygments_lexer": "ipython3",
   "version": "3.9.12"
  }
 },
 "nbformat": 4,
 "nbformat_minor": 2
}
