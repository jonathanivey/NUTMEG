{
 "cells": [
  {
   "cell_type": "code",
   "execution_count": 1,
   "metadata": {},
   "outputs": [],
   "source": [
    "from NUTMEG.nutmeg import NUTMEG\n",
    "import pandas as pd"
   ]
  },
  {
   "cell_type": "markdown",
   "metadata": {},
   "source": [
    "### 1. Format you input data\n",
    "\n",
    "The input DataFrame must contain the columns `task`, `worker`, `subpopulation`, and `label` where each row is a single annotation from one annotator for one task and ...\n",
    "\n",
    "`task` is the index of the item being annotated.\n",
    "\n",
    "`worker` is the annotator who is annotating that item.\n",
    "\n",
    "`subpopulation` is the group of the annotator.  - Every annotator must have exactly one subpopulation indicator.  - NUTMEG will produce one truth estimate for each item for each subpopulation. So, if you have three subpopulations, every item will have an estimated 3 estimated truths.\n",
    "\n",
    "`label` is the label that the annotator gave an item. "
   ]
  },
  {
   "cell_type": "code",
   "execution_count": 8,
   "metadata": {},
   "outputs": [
    {
     "data": {
      "text/html": [
       "<div>\n",
       "<style scoped>\n",
       "    .dataframe tbody tr th:only-of-type {\n",
       "        vertical-align: middle;\n",
       "    }\n",
       "\n",
       "    .dataframe tbody tr th {\n",
       "        vertical-align: top;\n",
       "    }\n",
       "\n",
       "    .dataframe thead th {\n",
       "        text-align: right;\n",
       "    }\n",
       "</style>\n",
       "<table border=\"1\" class=\"dataframe\">\n",
       "  <thead>\n",
       "    <tr style=\"text-align: right;\">\n",
       "      <th></th>\n",
       "      <th>task</th>\n",
       "      <th>worker</th>\n",
       "      <th>subpopulation</th>\n",
       "      <th>label</th>\n",
       "    </tr>\n",
       "  </thead>\n",
       "  <tbody>\n",
       "    <tr>\n",
       "      <th>0</th>\n",
       "      <td>T_1</td>\n",
       "      <td>W_1</td>\n",
       "      <td>S_2</td>\n",
       "      <td>0</td>\n",
       "    </tr>\n",
       "    <tr>\n",
       "      <th>1</th>\n",
       "      <td>T_1</td>\n",
       "      <td>W_2</td>\n",
       "      <td>S_1</td>\n",
       "      <td>0</td>\n",
       "    </tr>\n",
       "    <tr>\n",
       "      <th>2</th>\n",
       "      <td>T_1</td>\n",
       "      <td>W_3</td>\n",
       "      <td>S_1</td>\n",
       "      <td>1</td>\n",
       "    </tr>\n",
       "    <tr>\n",
       "      <th>3</th>\n",
       "      <td>T_1</td>\n",
       "      <td>W_4</td>\n",
       "      <td>S_1</td>\n",
       "      <td>1</td>\n",
       "    </tr>\n",
       "    <tr>\n",
       "      <th>4</th>\n",
       "      <td>T_2</td>\n",
       "      <td>W_1</td>\n",
       "      <td>S_1</td>\n",
       "      <td>0</td>\n",
       "    </tr>\n",
       "  </tbody>\n",
       "</table>\n",
       "</div>"
      ],
      "text/plain": [
       "  task worker subpopulation  label\n",
       "0  T_1    W_1           S_2      0\n",
       "1  T_1    W_2           S_1      0\n",
       "2  T_1    W_3           S_1      1\n",
       "3  T_1    W_4           S_1      1\n",
       "4  T_2    W_1           S_1      0"
      ]
     },
     "execution_count": 8,
     "metadata": {},
     "output_type": "execute_result"
    }
   ],
   "source": [
    "df = pd.DataFrame({'task':['T_1', 'T_1', 'T_1', 'T_1', 'T_2', 'T_2', 'T_2'],\n",
    "                   'worker':['W_1', 'W_2', 'W_3', 'W_4', 'W_1', 'W_2', 'W_3'],\n",
    "                   'subpopulation':['S_2', 'S_1', 'S_1', 'S_1', 'S_1', 'S_1', 'S_1'],\n",
    "                   'label':[0, 0, 1, 1, 0, 0, 0]})\n",
    "df.head()"
   ]
  },
  {
   "cell_type": "markdown",
   "metadata": {},
   "source": [
    "### 2. Instantiate an instance of NUTMEG and specify parameters:\n",
    "\n",
    "`n_restarts`\n",
    "The number of optimization runs of the algorithms.\n",
    "The final parameters are those that gave the best log likelihood.\n",
    "If one run takes too long, this parameter can be set to 1.\n",
    "\n",
    "`n_iter`\n",
    "The maximum number of iterations for each optimization run.\n",
    "\n",
    "`smoothing`\n",
    "The smoothing parameter for the normalization.\n",
    "\n",
    "`default_noise`\n",
    "The default noise parameter for the initialization.\n",
    "\n",
    "`alpha`\n",
    "The prior parameter for the Beta distribution of the competence measure.\n",
    "\n",
    "`beta`\n",
    "The prior parameter for the Beta distribution of the competence measure.\n",
    "\n",
    "`random_state`\n",
    "The state of the random number generator.\n",
    "\n",
    "`verbose`\n",
    "Specifies if the progress will be printed or not:\n",
    "0 — no progress bar, 1 — only for restarts, 2 — for both restarts and optimization.\n"
   ]
  },
  {
   "cell_type": "code",
   "execution_count": 3,
   "metadata": {},
   "outputs": [],
   "source": [
    "# instantiate NUTMEG instance\n",
    "nutmeg = NUTMEG()"
   ]
  },
  {
   "cell_type": "markdown",
   "metadata": {},
   "source": [
    "### 3. Fit the model to the data\n",
    "\n",
    "Use the `fit` method to train the model. Alternatively use `fit_predict` or `fit_predict_proba` to return the predicted labels or probabilities directly.\n",
    "\n",
    "\n",
    "**Note:** The `return_unobserved` parameter determines how the model will output predictions for items with no annotations from certain subpopulations. If it is set to `False`, the probabilities and labels returned by the model will be `np.nan` for subpopulation-item combinations where there are no examples. If it is set to `True`, then the labels and probabilities will be estimated based on other observed instances (as detailed in the paper)."
   ]
  },
  {
   "cell_type": "code",
   "execution_count": null,
   "metadata": {},
   "outputs": [],
   "source": [
    "nutmeg.fit(df, return_unobserved=True)"
   ]
  },
  {
   "cell_type": "markdown",
   "metadata": {},
   "source": [
    "# Obtain Results\n",
    "\n",
    "`.labels_` The predicted labels for each item for each subpopulation as a numpy array with shape `(n_items, n_subpopulations)` where the order of the items is the order that they were given in the DataFrame and the order of the subpopulations is the order they were given in the DataFrame. (i.e., if the first entry was \"item1\" with \"subpopulation2\", then the first entry in the numpy array is for item1 and the estimated label for subpopulation2 is the first entry in the second dimension)\n",
    "\n",
    "`.probas_` The predicted probabilities of the labels for each item for each subpopulation with shape `(n_items, n_subpopulations, n_labels)`. Using the same order scheme as above. Note the order of the probabilities corresponds to the order in which those labels are observed in the DataFrame. \n",
    "\n",
    "`.spamming_` The estimated competences of each annotator (in the order they were given in the DataFrame). The last dimension of the DataFrame will be size 2, where the first entry is the probability of the annotator giving the correct label and the second entry is the probability of the annotator spamming.\n",
    "\n",
    "\n",
    "**Note:** If you want an easy way of determining the order of the tasks, annotators, subpopulations, or labels in the output simply use `df[column_name].unique()`"
   ]
  },
  {
   "cell_type": "code",
   "execution_count": 5,
   "metadata": {},
   "outputs": [
    {
     "data": {
      "text/plain": [
       "array([['0', '1'],\n",
       "       ['0', '0']], dtype=object)"
      ]
     },
     "execution_count": 5,
     "metadata": {},
     "output_type": "execute_result"
    }
   ],
   "source": [
    "nutmeg.labels_"
   ]
  },
  {
   "cell_type": "code",
   "execution_count": 6,
   "metadata": {},
   "outputs": [
    {
     "data": {
      "text/plain": [
       "array([[[0.99706369, 0.00293631],\n",
       "        [0.0107271 , 0.9892729 ]],\n",
       "\n",
       "       [[0.99706369, 0.00293631],\n",
       "        [0.91612266, 0.08387734]]])"
      ]
     },
     "execution_count": 6,
     "metadata": {},
     "output_type": "execute_result"
    }
   ],
   "source": [
    "nutmeg.probas_"
   ]
  },
  {
   "cell_type": "code",
   "execution_count": 7,
   "metadata": {},
   "outputs": [
    {
     "data": {
      "text/plain": [
       "array([[0.08896221, 0.76026716],\n",
       "       [0.08896221, 0.76026716],\n",
       "       [0.14328313, 0.69704067],\n",
       "       [0.15978965, 0.57639631]])"
      ]
     },
     "execution_count": 7,
     "metadata": {},
     "output_type": "execute_result"
    }
   ],
   "source": [
    "nutmeg.spamming_"
   ]
  },
  {
   "cell_type": "code",
   "execution_count": null,
   "metadata": {},
   "outputs": [],
   "source": []
  }
 ],
 "metadata": {
  "kernelspec": {
   "display_name": "base",
   "language": "python",
   "name": "python3"
  },
  "language_info": {
   "codemirror_mode": {
    "name": "ipython",
    "version": 3
   },
   "file_extension": ".py",
   "mimetype": "text/x-python",
   "name": "python",
   "nbconvert_exporter": "python",
   "pygments_lexer": "ipython3",
   "version": "3.9.12"
  }
 },
 "nbformat": 4,
 "nbformat_minor": 2
}
